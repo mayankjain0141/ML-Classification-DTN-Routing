{
  "nbformat": 4,
  "nbformat_minor": 0,
  "metadata": {
    "colab": {
      "name": "DTN Routing.ipynb",
      "provenance": [],
      "collapsed_sections": [],
      "toc_visible": true
    },
    "kernelspec": {
      "display_name": "Python 3",
      "language": "python",
      "name": "python3"
    },
    "language_info": {
      "codemirror_mode": {
        "name": "ipython",
        "version": 3
      },
      "file_extension": ".py",
      "mimetype": "text/x-python",
      "name": "python",
      "nbconvert_exporter": "python",
      "pygments_lexer": "ipython3",
      "version": "3.7.6"
    },
    "accelerator": "GPU"
  },
  "cells": [
    {
      "cell_type": "code",
      "metadata": {
        "id": "rQC-ry5Vm5IG"
      },
      "source": [
        "import numpy as np\n",
        "import pandas as pd\n",
        "import matplotlib.pyplot as plt\n",
        "import seaborn as sns\n",
        "import operator\n",
        "from functools import reduce"
      ],
      "execution_count": 1,
      "outputs": []
    },
    {
      "cell_type": "code",
      "metadata": {
        "id": "fIxFxlG1m5Ik"
      },
      "source": [
        "# Initializing simulation parameters\n",
        "iterations = 0\n",
        "epoch_size = 500\n",
        "num_nodes = 10\n",
        "seed = 42"
      ],
      "execution_count": 2,
      "outputs": []
    },
    {
      "cell_type": "markdown",
      "metadata": {
        "id": "yNkgwVRGHsgG"
      },
      "source": [
        "### Processing Delivery Report dataset"
      ]
    },
    {
      "cell_type": "code",
      "metadata": {
        "colab": {
          "base_uri": "https://localhost:8080/",
          "height": 218
        },
        "id": "AIHjXRD_m5Ig",
        "outputId": "f80af351-311d-40d7-80c5-9806ffac04c7"
      },
      "source": [
        "fileName = ('data/prophet_delivery_report.xlsx')\n",
        "df = pd.read_excel(fileName)\n",
        "print('Dataset size: ', df.shape)\n",
        "df.head()"
      ],
      "execution_count": 28,
      "outputs": [
        {
          "output_type": "stream",
          "text": [
            "Dataset size:  (3086, 10)\n"
          ],
          "name": "stdout"
        },
        {
          "output_type": "execute_result",
          "data": {
            "text/html": [
              "<div>\n",
              "<style scoped>\n",
              "    .dataframe tbody tr th:only-of-type {\n",
              "        vertical-align: middle;\n",
              "    }\n",
              "\n",
              "    .dataframe tbody tr th {\n",
              "        vertical-align: top;\n",
              "    }\n",
              "\n",
              "    .dataframe thead th {\n",
              "        text-align: right;\n",
              "    }\n",
              "</style>\n",
              "<table border=\"1\" class=\"dataframe\">\n",
              "  <thead>\n",
              "    <tr style=\"text-align: right;\">\n",
              "      <th></th>\n",
              "      <th>time</th>\n",
              "      <th>ID</th>\n",
              "      <th>size</th>\n",
              "      <th>hopcount</th>\n",
              "      <th>deliveryTime</th>\n",
              "      <th>fromHost</th>\n",
              "      <th>toHost</th>\n",
              "      <th>remainingTtl</th>\n",
              "      <th>isResponse</th>\n",
              "      <th>path</th>\n",
              "    </tr>\n",
              "  </thead>\n",
              "  <tbody>\n",
              "    <tr>\n",
              "      <th>0</th>\n",
              "      <td>1566.1</td>\n",
              "      <td>M21</td>\n",
              "      <td>9952</td>\n",
              "      <td>1</td>\n",
              "      <td>0.1</td>\n",
              "      <td>p0</td>\n",
              "      <td>p6</td>\n",
              "      <td>1499</td>\n",
              "      <td>N</td>\n",
              "      <td>p0-&gt;p6</td>\n",
              "    </tr>\n",
              "    <tr>\n",
              "      <th>1</th>\n",
              "      <td>1669.6</td>\n",
              "      <td>M4</td>\n",
              "      <td>8257</td>\n",
              "      <td>1</td>\n",
              "      <td>1377.6</td>\n",
              "      <td>p7</td>\n",
              "      <td>p1</td>\n",
              "      <td>1477</td>\n",
              "      <td>N</td>\n",
              "      <td>p7-&gt;p1</td>\n",
              "    </tr>\n",
              "    <tr>\n",
              "      <th>2</th>\n",
              "      <td>2237.0</td>\n",
              "      <td>M29</td>\n",
              "      <td>8083</td>\n",
              "      <td>1</td>\n",
              "      <td>37.0</td>\n",
              "      <td>p5</td>\n",
              "      <td>p0</td>\n",
              "      <td>1499</td>\n",
              "      <td>N</td>\n",
              "      <td>p5-&gt;p0</td>\n",
              "    </tr>\n",
              "    <tr>\n",
              "      <th>3</th>\n",
              "      <td>2237.1</td>\n",
              "      <td>M20</td>\n",
              "      <td>8205</td>\n",
              "      <td>1</td>\n",
              "      <td>734.1</td>\n",
              "      <td>p0</td>\n",
              "      <td>p5</td>\n",
              "      <td>1487</td>\n",
              "      <td>N</td>\n",
              "      <td>p0-&gt;p5</td>\n",
              "    </tr>\n",
              "    <tr>\n",
              "      <th>4</th>\n",
              "      <td>2237.2</td>\n",
              "      <td>M8</td>\n",
              "      <td>9587</td>\n",
              "      <td>1</td>\n",
              "      <td>1599.2</td>\n",
              "      <td>p0</td>\n",
              "      <td>p7</td>\n",
              "      <td>1473</td>\n",
              "      <td>N</td>\n",
              "      <td>p0-&gt;p5</td>\n",
              "    </tr>\n",
              "  </tbody>\n",
              "</table>\n",
              "</div>"
            ],
            "text/plain": [
              "     time   ID  size  hopcount  ...  toHost remainingTtl isResponse    path\n",
              "0  1566.1  M21  9952         1  ...      p6         1499          N  p0->p6\n",
              "1  1669.6   M4  8257         1  ...      p1         1477          N  p7->p1\n",
              "2  2237.0  M29  8083         1  ...      p0         1499          N  p5->p0\n",
              "3  2237.1  M20  8205         1  ...      p5         1487          N  p0->p5\n",
              "4  2237.2   M8  9587         1  ...      p7         1473          N  p0->p5\n",
              "\n",
              "[5 rows x 10 columns]"
            ]
          },
          "metadata": {
            "tags": []
          },
          "execution_count": 28
        }
      ]
    },
    {
      "cell_type": "code",
      "metadata": {
        "id": "5iJvHhrjm5Ik"
      },
      "source": [
        "def unpackTuple(tup):\n",
        "    return (reduce(operator.add, tup))\n",
        "\n",
        "\n",
        "def preProcessing(df):\n",
        "    # Assigning a time Index to each entry\n",
        "    df['epoch_index'] = df.apply(lambda row: int(row['time'] / epoch_size),\n",
        "                                 axis=1)\n",
        "\n",
        "    df.drop([\n",
        "        'time', 'hopcount', 'deliveryTime', 'remainingTtl', 'isResponse',\n",
        "        'size'\n",
        "    ],\n",
        "            axis=1,\n",
        "            inplace=True)  #dropping unnecessary columns\n",
        "\n",
        "    # Formatting to parseable form\n",
        "    df[\"fromHost\"] = df[\"fromHost\"].str.replace(\"p\", \"\")\n",
        "    df[\"toHost\"] = df[\"toHost\"].str.replace(\"p\", \"\")\n",
        "    df[\"path\"] = df[\"path\"].str.replace(\"p\", \"\")\n",
        "    df[\"ID\"] = df[\"ID\"].str.replace(\"M\", \"\")\n",
        "\n",
        "    # Splitting the path entries\n",
        "    df[\"path\"] = df[\"path\"].str.split(\"->\").apply(list)\n",
        "\n",
        "    # Grouping all entries of a message in an epoch\n",
        "    # to generate all the nodes visited during that epoch\n",
        "    df = df.groupby(['ID', 'epoch_index', 'fromHost',\n",
        "                     'toHost'])['path'].apply(list).reset_index()\n",
        "    # Unpacking path\n",
        "    df['path'] = df.apply(lambda row: set(unpackTuple(row['path'])), axis=1)\n",
        "\n",
        "    df['fromHost'] = df['fromHost'].astype(int)\n",
        "    df['toHost'] = df['toHost'].astype(int)\n",
        "    df['ID'] = df['ID'].astype(int)\n",
        "\n",
        "    return df"
      ],
      "execution_count": 29,
      "outputs": []
    },
    {
      "cell_type": "code",
      "metadata": {
        "colab": {
          "base_uri": "https://localhost:8080/",
          "height": 411
        },
        "id": "w0eiCasUm5Il",
        "outputId": "863ec80a-70bc-4df4-8f4a-193cb072045f"
      },
      "source": [
        "df = preProcessing(df)\n",
        "df"
      ],
      "execution_count": 30,
      "outputs": [
        {
          "output_type": "execute_result",
          "data": {
            "text/html": [
              "<div>\n",
              "<style scoped>\n",
              "    .dataframe tbody tr th:only-of-type {\n",
              "        vertical-align: middle;\n",
              "    }\n",
              "\n",
              "    .dataframe tbody tr th {\n",
              "        vertical-align: top;\n",
              "    }\n",
              "\n",
              "    .dataframe thead th {\n",
              "        text-align: right;\n",
              "    }\n",
              "</style>\n",
              "<table border=\"1\" class=\"dataframe\">\n",
              "  <thead>\n",
              "    <tr style=\"text-align: right;\">\n",
              "      <th></th>\n",
              "      <th>ID</th>\n",
              "      <th>epoch_index</th>\n",
              "      <th>fromHost</th>\n",
              "      <th>toHost</th>\n",
              "      <th>path</th>\n",
              "    </tr>\n",
              "  </thead>\n",
              "  <tbody>\n",
              "    <tr>\n",
              "      <th>0</th>\n",
              "      <td>1</td>\n",
              "      <td>4</td>\n",
              "      <td>6</td>\n",
              "      <td>1</td>\n",
              "      <td>{7, 6, 5, 0}</td>\n",
              "    </tr>\n",
              "    <tr>\n",
              "      <th>1</th>\n",
              "      <td>1</td>\n",
              "      <td>5</td>\n",
              "      <td>6</td>\n",
              "      <td>1</td>\n",
              "      <td>{7, 1, 6, 0}</td>\n",
              "    </tr>\n",
              "    <tr>\n",
              "      <th>2</th>\n",
              "      <td>1</td>\n",
              "      <td>11</td>\n",
              "      <td>6</td>\n",
              "      <td>1</td>\n",
              "      <td>{6, 3}</td>\n",
              "    </tr>\n",
              "    <tr>\n",
              "      <th>3</th>\n",
              "      <td>1</td>\n",
              "      <td>22</td>\n",
              "      <td>6</td>\n",
              "      <td>1</td>\n",
              "      <td>{8, 6, 3}</td>\n",
              "    </tr>\n",
              "    <tr>\n",
              "      <th>4</th>\n",
              "      <td>1</td>\n",
              "      <td>36</td>\n",
              "      <td>6</td>\n",
              "      <td>1</td>\n",
              "      <td>{8, 4, 6, 3}</td>\n",
              "    </tr>\n",
              "    <tr>\n",
              "      <th>...</th>\n",
              "      <td>...</td>\n",
              "      <td>...</td>\n",
              "      <td>...</td>\n",
              "      <td>...</td>\n",
              "      <td>...</td>\n",
              "    </tr>\n",
              "    <tr>\n",
              "      <th>2762</th>\n",
              "      <td>99</td>\n",
              "      <td>19</td>\n",
              "      <td>6</td>\n",
              "      <td>7</td>\n",
              "      <td>{6, 0}</td>\n",
              "    </tr>\n",
              "    <tr>\n",
              "      <th>2763</th>\n",
              "      <td>99</td>\n",
              "      <td>27</td>\n",
              "      <td>6</td>\n",
              "      <td>7</td>\n",
              "      <td>{1, 6, 0}</td>\n",
              "    </tr>\n",
              "    <tr>\n",
              "      <th>2764</th>\n",
              "      <td>99</td>\n",
              "      <td>29</td>\n",
              "      <td>6</td>\n",
              "      <td>7</td>\n",
              "      <td>{7, 1, 6, 0}</td>\n",
              "    </tr>\n",
              "    <tr>\n",
              "      <th>2765</th>\n",
              "      <td>99</td>\n",
              "      <td>54</td>\n",
              "      <td>6</td>\n",
              "      <td>7</td>\n",
              "      <td>{1, 6, 5, 0}</td>\n",
              "    </tr>\n",
              "    <tr>\n",
              "      <th>2766</th>\n",
              "      <td>99</td>\n",
              "      <td>71</td>\n",
              "      <td>6</td>\n",
              "      <td>7</td>\n",
              "      <td>{6, 5, 3, 1, 0}</td>\n",
              "    </tr>\n",
              "  </tbody>\n",
              "</table>\n",
              "<p>2767 rows × 5 columns</p>\n",
              "</div>"
            ],
            "text/plain": [
              "      ID  epoch_index  fromHost  toHost             path\n",
              "0      1            4         6       1     {7, 6, 5, 0}\n",
              "1      1            5         6       1     {7, 1, 6, 0}\n",
              "2      1           11         6       1           {6, 3}\n",
              "3      1           22         6       1        {8, 6, 3}\n",
              "4      1           36         6       1     {8, 4, 6, 3}\n",
              "...   ..          ...       ...     ...              ...\n",
              "2762  99           19         6       7           {6, 0}\n",
              "2763  99           27         6       7        {1, 6, 0}\n",
              "2764  99           29         6       7     {7, 1, 6, 0}\n",
              "2765  99           54         6       7     {1, 6, 5, 0}\n",
              "2766  99           71         6       7  {6, 5, 3, 1, 0}\n",
              "\n",
              "[2767 rows x 5 columns]"
            ]
          },
          "metadata": {
            "tags": []
          },
          "execution_count": 30
        }
      ]
    },
    {
      "cell_type": "markdown",
      "metadata": {
        "id": "hAMW50guHsgR"
      },
      "source": [
        "### Processing Node Locations dataset"
      ]
    },
    {
      "cell_type": "code",
      "metadata": {
        "colab": {
          "base_uri": "https://localhost:8080/",
          "height": 218
        },
        "id": "IQbHRZyIHsgS",
        "outputId": "464e4cd2-bf24-4005-a7ab-a30fb0d804f1"
      },
      "source": [
        "fileName2 = ('data/prophet_NodeLocs.xlsx')\n",
        "df2 = pd.read_excel(fileName2)\n",
        "print('Dataset size: ', df2.shape)\n",
        "df2.head()"
      ],
      "execution_count": 31,
      "outputs": [
        {
          "output_type": "stream",
          "text": [
            "Dataset size:  (22400, 4)\n"
          ],
          "name": "stdout"
        },
        {
          "output_type": "execute_result",
          "data": {
            "text/html": [
              "<div>\n",
              "<style scoped>\n",
              "    .dataframe tbody tr th:only-of-type {\n",
              "        vertical-align: middle;\n",
              "    }\n",
              "\n",
              "    .dataframe tbody tr th {\n",
              "        vertical-align: top;\n",
              "    }\n",
              "\n",
              "    .dataframe thead th {\n",
              "        text-align: right;\n",
              "    }\n",
              "</style>\n",
              "<table border=\"1\" class=\"dataframe\">\n",
              "  <thead>\n",
              "    <tr style=\"text-align: right;\">\n",
              "      <th></th>\n",
              "      <th>time</th>\n",
              "      <th>node</th>\n",
              "      <th>x</th>\n",
              "      <th>y</th>\n",
              "    </tr>\n",
              "  </thead>\n",
              "  <tbody>\n",
              "    <tr>\n",
              "      <th>0</th>\n",
              "      <td>25</td>\n",
              "      <td>p0</td>\n",
              "      <td>359.2952</td>\n",
              "      <td>593.5965</td>\n",
              "    </tr>\n",
              "    <tr>\n",
              "      <th>1</th>\n",
              "      <td>25</td>\n",
              "      <td>p1</td>\n",
              "      <td>595.1697</td>\n",
              "      <td>864.0757</td>\n",
              "    </tr>\n",
              "    <tr>\n",
              "      <th>2</th>\n",
              "      <td>25</td>\n",
              "      <td>p2</td>\n",
              "      <td>150.4684</td>\n",
              "      <td>323.1847</td>\n",
              "    </tr>\n",
              "    <tr>\n",
              "      <th>3</th>\n",
              "      <td>25</td>\n",
              "      <td>p3</td>\n",
              "      <td>246.6003</td>\n",
              "      <td>679.0803</td>\n",
              "    </tr>\n",
              "    <tr>\n",
              "      <th>4</th>\n",
              "      <td>25</td>\n",
              "      <td>p4</td>\n",
              "      <td>99.0202</td>\n",
              "      <td>383.6092</td>\n",
              "    </tr>\n",
              "  </tbody>\n",
              "</table>\n",
              "</div>"
            ],
            "text/plain": [
              "   time node         x         y\n",
              "0    25   p0  359.2952  593.5965\n",
              "1    25   p1  595.1697  864.0757\n",
              "2    25   p2  150.4684  323.1847\n",
              "3    25   p3  246.6003  679.0803\n",
              "4    25   p4   99.0202  383.6092"
            ]
          },
          "metadata": {
            "tags": []
          },
          "execution_count": 31
        }
      ]
    },
    {
      "cell_type": "code",
      "metadata": {
        "colab": {
          "base_uri": "https://localhost:8080/",
          "height": 376
        },
        "id": "d2ClhNXfm5Im",
        "outputId": "59a65643-1955-4616-9f56-28667fffa4f8"
      },
      "source": [
        "plt.style.use(\"classic\")\n",
        "plt.figure(figsize=(5, 5))\n",
        "plt.scatter(df2['x'], df2['y'], s=2, cmap='rainbow')\n",
        "plt.show()"
      ],
      "execution_count": 32,
      "outputs": [
        {
          "output_type": "display_data",
          "data": {
            "image/png": "[encoded data removed]",
            "text/plain": [
              "<Figure size 400x400 with 1 Axes>"
            ]
          },
          "metadata": {
            "tags": []
          }
        }
      ]
    },
    {
      "cell_type": "markdown",
      "metadata": {
        "id": "skddI_7DHsgU"
      },
      "source": [
        "### Determining optimal value of K in K Means Clustering"
      ]
    },
    {
      "cell_type": "code",
      "metadata": {
        "colab": {
          "base_uri": "https://localhost:8080/",
          "height": 481
        },
        "id": "CVCesMYrO-Ge",
        "outputId": "fc43d5a9-95f7-4ba8-bb41-e368af4b59d0"
      },
      "source": [
        "# Import the KElbowVisualizer method\n",
        "from yellowbrick.cluster import KElbowVisualizer\n",
        "from sklearn.cluster import KMeans\n",
        "\n",
        "# Instantiate a scikit-learn K-Means model\n",
        "model = KMeans(random_state=0)\n",
        "\n",
        "# Instantiate the KElbowVisualizer with the number of clusters and the metric\n",
        "visualizer = KElbowVisualizer(model,\n",
        "                              k=(2, num_nodes + 1),\n",
        "                              metric='silhouette',\n",
        "                              timings=False)\n",
        "\n",
        "# Fit the node locations data and visualize\n",
        "visualizer.fit(data)\n",
        "visualizer.poof()"
      ],
      "execution_count": null,
      "outputs": [
        {
          "output_type": "display_data",
          "data": {
            "image/png": "[encoded data removed]",
            "text/plain": [
              "<Figure size 640x440 with 1 Axes>"
            ]
          },
          "metadata": {
            "tags": []
          }
        },
        {
          "output_type": "execute_result",
          "data": {
            "text/plain": [
              "<matplotlib.axes._subplots.AxesSubplot at 0x243d3f5ae48>"
            ]
          },
          "metadata": {
            "tags": []
          },
          "execution_count": 6
        }
      ]
    },
    {
      "cell_type": "code",
      "metadata": {
        "colab": {
          "base_uri": "https://localhost:8080/",
          "height": 411
        },
        "id": "NgRlfFDLm5Io",
        "outputId": "c5c2c233-9f26-4dac-860f-780081144d71"
      },
      "source": [
        "from sklearn.cluster import KMeans\n",
        "\n",
        "kmeans = KMeans(n_clusters=5, init='k-means++', n_init=num_nodes)\n",
        "data = df2[['x', 'y']]\n",
        "kmeans.fit(data)\n",
        "\n",
        "df2[\"node\"] = df2[\"node\"].str.replace(\"p\", \"\")\n",
        "df2['node'] = df2['node'].astype(int)\n",
        "df2['cluster_label'] = kmeans.fit_predict(df2[df2.columns[2:4]])\n",
        "\n",
        "df2"
      ],
      "execution_count": 33,
      "outputs": [
        {
          "output_type": "execute_result",
          "data": {
            "text/html": [
              "<div>\n",
              "<style scoped>\n",
              "    .dataframe tbody tr th:only-of-type {\n",
              "        vertical-align: middle;\n",
              "    }\n",
              "\n",
              "    .dataframe tbody tr th {\n",
              "        vertical-align: top;\n",
              "    }\n",
              "\n",
              "    .dataframe thead th {\n",
              "        text-align: right;\n",
              "    }\n",
              "</style>\n",
              "<table border=\"1\" class=\"dataframe\">\n",
              "  <thead>\n",
              "    <tr style=\"text-align: right;\">\n",
              "      <th></th>\n",
              "      <th>time</th>\n",
              "      <th>node</th>\n",
              "      <th>x</th>\n",
              "      <th>y</th>\n",
              "      <th>cluster_label</th>\n",
              "    </tr>\n",
              "  </thead>\n",
              "  <tbody>\n",
              "    <tr>\n",
              "      <th>0</th>\n",
              "      <td>25</td>\n",
              "      <td>0</td>\n",
              "      <td>359.2952</td>\n",
              "      <td>593.5965</td>\n",
              "      <td>0</td>\n",
              "    </tr>\n",
              "    <tr>\n",
              "      <th>1</th>\n",
              "      <td>25</td>\n",
              "      <td>1</td>\n",
              "      <td>595.1697</td>\n",
              "      <td>864.0757</td>\n",
              "      <td>2</td>\n",
              "    </tr>\n",
              "    <tr>\n",
              "      <th>2</th>\n",
              "      <td>25</td>\n",
              "      <td>2</td>\n",
              "      <td>150.4684</td>\n",
              "      <td>323.1847</td>\n",
              "      <td>3</td>\n",
              "    </tr>\n",
              "    <tr>\n",
              "      <th>3</th>\n",
              "      <td>25</td>\n",
              "      <td>3</td>\n",
              "      <td>246.6003</td>\n",
              "      <td>679.0803</td>\n",
              "      <td>0</td>\n",
              "    </tr>\n",
              "    <tr>\n",
              "      <th>4</th>\n",
              "      <td>25</td>\n",
              "      <td>4</td>\n",
              "      <td>99.0202</td>\n",
              "      <td>383.6092</td>\n",
              "      <td>3</td>\n",
              "    </tr>\n",
              "    <tr>\n",
              "      <th>...</th>\n",
              "      <td>...</td>\n",
              "      <td>...</td>\n",
              "      <td>...</td>\n",
              "      <td>...</td>\n",
              "      <td>...</td>\n",
              "    </tr>\n",
              "    <tr>\n",
              "      <th>22395</th>\n",
              "      <td>56000</td>\n",
              "      <td>5</td>\n",
              "      <td>511.8530</td>\n",
              "      <td>720.8290</td>\n",
              "      <td>2</td>\n",
              "    </tr>\n",
              "    <tr>\n",
              "      <th>22396</th>\n",
              "      <td>56000</td>\n",
              "      <td>6</td>\n",
              "      <td>343.5899</td>\n",
              "      <td>643.3298</td>\n",
              "      <td>0</td>\n",
              "    </tr>\n",
              "    <tr>\n",
              "      <th>22397</th>\n",
              "      <td>56000</td>\n",
              "      <td>7</td>\n",
              "      <td>531.3970</td>\n",
              "      <td>956.0542</td>\n",
              "      <td>2</td>\n",
              "    </tr>\n",
              "    <tr>\n",
              "      <th>22398</th>\n",
              "      <td>56000</td>\n",
              "      <td>8</td>\n",
              "      <td>744.8229</td>\n",
              "      <td>294.0880</td>\n",
              "      <td>4</td>\n",
              "    </tr>\n",
              "    <tr>\n",
              "      <th>22399</th>\n",
              "      <td>56000</td>\n",
              "      <td>9</td>\n",
              "      <td>454.7830</td>\n",
              "      <td>16.4842</td>\n",
              "      <td>1</td>\n",
              "    </tr>\n",
              "  </tbody>\n",
              "</table>\n",
              "<p>22400 rows × 5 columns</p>\n",
              "</div>"
            ],
            "text/plain": [
              "        time  node         x         y  cluster_label\n",
              "0         25     0  359.2952  593.5965              0\n",
              "1         25     1  595.1697  864.0757              2\n",
              "2         25     2  150.4684  323.1847              3\n",
              "3         25     3  246.6003  679.0803              0\n",
              "4         25     4   99.0202  383.6092              3\n",
              "...      ...   ...       ...       ...            ...\n",
              "22395  56000     5  511.8530  720.8290              2\n",
              "22396  56000     6  343.5899  643.3298              0\n",
              "22397  56000     7  531.3970  956.0542              2\n",
              "22398  56000     8  744.8229  294.0880              4\n",
              "22399  56000     9  454.7830   16.4842              1\n",
              "\n",
              "[22400 rows x 5 columns]"
            ]
          },
          "metadata": {
            "tags": []
          },
          "execution_count": 33
        }
      ]
    },
    {
      "cell_type": "code",
      "metadata": {
        "colab": {
          "base_uri": "https://localhost:8080/",
          "height": 352
        },
        "id": "8S3yz4qBHsgY",
        "outputId": "851f943d-a3bf-42e1-f850-d42740a2fd31"
      },
      "source": [
        "temp = [[i, round(df2[df2['node'] == i]['cluster_label'].mean())]\n",
        "        for i in range(num_nodes)]\n",
        "df3 = pd.DataFrame(temp, columns=['node', 'region'])\n",
        "df3"
      ],
      "execution_count": 34,
      "outputs": [
        {
          "output_type": "execute_result",
          "data": {
            "text/html": [
              "<div>\n",
              "<style scoped>\n",
              "    .dataframe tbody tr th:only-of-type {\n",
              "        vertical-align: middle;\n",
              "    }\n",
              "\n",
              "    .dataframe tbody tr th {\n",
              "        vertical-align: top;\n",
              "    }\n",
              "\n",
              "    .dataframe thead th {\n",
              "        text-align: right;\n",
              "    }\n",
              "</style>\n",
              "<table border=\"1\" class=\"dataframe\">\n",
              "  <thead>\n",
              "    <tr style=\"text-align: right;\">\n",
              "      <th></th>\n",
              "      <th>node</th>\n",
              "      <th>region</th>\n",
              "    </tr>\n",
              "  </thead>\n",
              "  <tbody>\n",
              "    <tr>\n",
              "      <th>0</th>\n",
              "      <td>0</td>\n",
              "      <td>0</td>\n",
              "    </tr>\n",
              "    <tr>\n",
              "      <th>1</th>\n",
              "      <td>1</td>\n",
              "      <td>2</td>\n",
              "    </tr>\n",
              "    <tr>\n",
              "      <th>2</th>\n",
              "      <td>2</td>\n",
              "      <td>3</td>\n",
              "    </tr>\n",
              "    <tr>\n",
              "      <th>3</th>\n",
              "      <td>3</td>\n",
              "      <td>0</td>\n",
              "    </tr>\n",
              "    <tr>\n",
              "      <th>4</th>\n",
              "      <td>4</td>\n",
              "      <td>3</td>\n",
              "    </tr>\n",
              "    <tr>\n",
              "      <th>5</th>\n",
              "      <td>5</td>\n",
              "      <td>2</td>\n",
              "    </tr>\n",
              "    <tr>\n",
              "      <th>6</th>\n",
              "      <td>6</td>\n",
              "      <td>0</td>\n",
              "    </tr>\n",
              "    <tr>\n",
              "      <th>7</th>\n",
              "      <td>7</td>\n",
              "      <td>2</td>\n",
              "    </tr>\n",
              "    <tr>\n",
              "      <th>8</th>\n",
              "      <td>8</td>\n",
              "      <td>4</td>\n",
              "    </tr>\n",
              "    <tr>\n",
              "      <th>9</th>\n",
              "      <td>9</td>\n",
              "      <td>1</td>\n",
              "    </tr>\n",
              "  </tbody>\n",
              "</table>\n",
              "</div>"
            ],
            "text/plain": [
              "   node  region\n",
              "0     0       0\n",
              "1     1       2\n",
              "2     2       3\n",
              "3     3       0\n",
              "4     4       3\n",
              "5     5       2\n",
              "6     6       0\n",
              "7     7       2\n",
              "8     8       4\n",
              "9     9       1"
            ]
          },
          "metadata": {
            "tags": []
          },
          "execution_count": 34
        }
      ]
    },
    {
      "cell_type": "markdown",
      "metadata": {
        "id": "QQOGEoTDHsgZ"
      },
      "source": [
        "#### Plotting the node clusters"
      ]
    },
    {
      "cell_type": "code",
      "metadata": {
        "colab": {
          "base_uri": "https://localhost:8080/",
          "height": 376
        },
        "id": "qN-a70KAm5Ip",
        "outputId": "1c4185bd-a7b0-46dd-ea6a-2f976d72ed97"
      },
      "source": [
        "plt.figure(figsize=(5, 5))\n",
        "plt.scatter(data['x'], data['y'], c=kmeans.labels_, cmap='rainbow', s=10)\n",
        "plt.show()"
      ],
      "execution_count": 35,
      "outputs": [
        {
          "output_type": "display_data",
          "data": {
            "image/png": "[encoded data removed]",
            "text/plain": [
              "<Figure size 400x400 with 1 Axes>"
            ]
          },
          "metadata": {
            "tags": []
          }
        }
      ]
    },
    {
      "cell_type": "code",
      "metadata": {
        "colab": {
          "base_uri": "https://localhost:8080/",
          "height": 411
        },
        "id": "fP9bI3SIm5Is",
        "outputId": "b434651c-0718-4953-8bec-eea0d7189d4a"
      },
      "source": [
        "# Merging the two databases to create region code features\n",
        "df = pd.merge(df, df3, left_on=\"fromHost\", right_on=\"node\")\n",
        "df = pd.merge(df, df3, left_on=\"toHost\", right_on=\"node\")\n",
        "df = df.drop(['node_x', 'node_y'], axis=1)\n",
        "df['deliveryStatus'] = df.apply(lambda row: row['toHost'] in row['path'],\n",
        "                                axis=1)\n",
        "df"
      ],
      "execution_count": 36,
      "outputs": [
        {
          "output_type": "execute_result",
          "data": {
            "text/html": [
              "<div>\n",
              "<style scoped>\n",
              "    .dataframe tbody tr th:only-of-type {\n",
              "        vertical-align: middle;\n",
              "    }\n",
              "\n",
              "    .dataframe tbody tr th {\n",
              "        vertical-align: top;\n",
              "    }\n",
              "\n",
              "    .dataframe thead th {\n",
              "        text-align: right;\n",
              "    }\n",
              "</style>\n",
              "<table border=\"1\" class=\"dataframe\">\n",
              "  <thead>\n",
              "    <tr style=\"text-align: right;\">\n",
              "      <th></th>\n",
              "      <th>ID</th>\n",
              "      <th>epoch_index</th>\n",
              "      <th>fromHost</th>\n",
              "      <th>toHost</th>\n",
              "      <th>path</th>\n",
              "      <th>region_x</th>\n",
              "      <th>region_y</th>\n",
              "      <th>deliveryStatus</th>\n",
              "    </tr>\n",
              "  </thead>\n",
              "  <tbody>\n",
              "    <tr>\n",
              "      <th>0</th>\n",
              "      <td>1</td>\n",
              "      <td>4</td>\n",
              "      <td>6</td>\n",
              "      <td>1</td>\n",
              "      <td>{7, 6, 5, 0}</td>\n",
              "      <td>0</td>\n",
              "      <td>2</td>\n",
              "      <td>False</td>\n",
              "    </tr>\n",
              "    <tr>\n",
              "      <th>1</th>\n",
              "      <td>1</td>\n",
              "      <td>5</td>\n",
              "      <td>6</td>\n",
              "      <td>1</td>\n",
              "      <td>{7, 1, 6, 0}</td>\n",
              "      <td>0</td>\n",
              "      <td>2</td>\n",
              "      <td>False</td>\n",
              "    </tr>\n",
              "    <tr>\n",
              "      <th>2</th>\n",
              "      <td>1</td>\n",
              "      <td>11</td>\n",
              "      <td>6</td>\n",
              "      <td>1</td>\n",
              "      <td>{6, 3}</td>\n",
              "      <td>0</td>\n",
              "      <td>2</td>\n",
              "      <td>False</td>\n",
              "    </tr>\n",
              "    <tr>\n",
              "      <th>3</th>\n",
              "      <td>1</td>\n",
              "      <td>22</td>\n",
              "      <td>6</td>\n",
              "      <td>1</td>\n",
              "      <td>{8, 6, 3}</td>\n",
              "      <td>0</td>\n",
              "      <td>2</td>\n",
              "      <td>False</td>\n",
              "    </tr>\n",
              "    <tr>\n",
              "      <th>4</th>\n",
              "      <td>1</td>\n",
              "      <td>36</td>\n",
              "      <td>6</td>\n",
              "      <td>1</td>\n",
              "      <td>{8, 4, 6, 3}</td>\n",
              "      <td>0</td>\n",
              "      <td>2</td>\n",
              "      <td>False</td>\n",
              "    </tr>\n",
              "    <tr>\n",
              "      <th>...</th>\n",
              "      <td>...</td>\n",
              "      <td>...</td>\n",
              "      <td>...</td>\n",
              "      <td>...</td>\n",
              "      <td>...</td>\n",
              "      <td>...</td>\n",
              "      <td>...</td>\n",
              "      <td>...</td>\n",
              "    </tr>\n",
              "    <tr>\n",
              "      <th>2762</th>\n",
              "      <td>77</td>\n",
              "      <td>22</td>\n",
              "      <td>2</td>\n",
              "      <td>6</td>\n",
              "      <td>{2, 8, 0, 3}</td>\n",
              "      <td>3</td>\n",
              "      <td>0</td>\n",
              "      <td>False</td>\n",
              "    </tr>\n",
              "    <tr>\n",
              "      <th>2763</th>\n",
              "      <td>77</td>\n",
              "      <td>23</td>\n",
              "      <td>2</td>\n",
              "      <td>6</td>\n",
              "      <td>{2, 4}</td>\n",
              "      <td>3</td>\n",
              "      <td>0</td>\n",
              "      <td>False</td>\n",
              "    </tr>\n",
              "    <tr>\n",
              "      <th>2764</th>\n",
              "      <td>77</td>\n",
              "      <td>65</td>\n",
              "      <td>2</td>\n",
              "      <td>6</td>\n",
              "      <td>{2, 0, 5}</td>\n",
              "      <td>3</td>\n",
              "      <td>0</td>\n",
              "      <td>False</td>\n",
              "    </tr>\n",
              "    <tr>\n",
              "      <th>2765</th>\n",
              "      <td>77</td>\n",
              "      <td>90</td>\n",
              "      <td>2</td>\n",
              "      <td>6</td>\n",
              "      <td>{2, 0, 9}</td>\n",
              "      <td>3</td>\n",
              "      <td>0</td>\n",
              "      <td>False</td>\n",
              "    </tr>\n",
              "    <tr>\n",
              "      <th>2766</th>\n",
              "      <td>77</td>\n",
              "      <td>111</td>\n",
              "      <td>2</td>\n",
              "      <td>6</td>\n",
              "      <td>{2, 7, 0, 5}</td>\n",
              "      <td>3</td>\n",
              "      <td>0</td>\n",
              "      <td>False</td>\n",
              "    </tr>\n",
              "  </tbody>\n",
              "</table>\n",
              "<p>2767 rows × 8 columns</p>\n",
              "</div>"
            ],
            "text/plain": [
              "      ID  epoch_index  fromHost  ...  region_x region_y  deliveryStatus\n",
              "0      1            4         6  ...         0        2           False\n",
              "1      1            5         6  ...         0        2           False\n",
              "2      1           11         6  ...         0        2           False\n",
              "3      1           22         6  ...         0        2           False\n",
              "4      1           36         6  ...         0        2           False\n",
              "...   ..          ...       ...  ...       ...      ...             ...\n",
              "2762  77           22         2  ...         3        0           False\n",
              "2763  77           23         2  ...         3        0           False\n",
              "2764  77           65         2  ...         3        0           False\n",
              "2765  77           90         2  ...         3        0           False\n",
              "2766  77          111         2  ...         3        0           False\n",
              "\n",
              "[2767 rows x 8 columns]"
            ]
          },
          "metadata": {
            "tags": []
          },
          "execution_count": 36
        }
      ]
    },
    {
      "cell_type": "code",
      "metadata": {
        "colab": {
          "base_uri": "https://localhost:8080/",
          "height": 431
        },
        "id": "0Ya5y1pwm5Iw",
        "outputId": "1022aba1-33b4-4d21-84c2-8cfd87fc2313"
      },
      "source": [
        "# Generating the labels (d0-d9)\n",
        "for x in range(num_nodes):\n",
        "    label = 'd' + str(x)\n",
        "    df[label] = df.apply(lambda row: str(x) in row['path'], axis=1)\n",
        "\n",
        "df.drop(['ID'], axis=1, inplace=True)\n",
        "df.drop(['path'], axis=1, inplace=True)\n",
        "df"
      ],
      "execution_count": 37,
      "outputs": [
        {
          "output_type": "execute_result",
          "data": {
            "text/html": [
              "<div>\n",
              "<style scoped>\n",
              "    .dataframe tbody tr th:only-of-type {\n",
              "        vertical-align: middle;\n",
              "    }\n",
              "\n",
              "    .dataframe tbody tr th {\n",
              "        vertical-align: top;\n",
              "    }\n",
              "\n",
              "    .dataframe thead th {\n",
              "        text-align: right;\n",
              "    }\n",
              "</style>\n",
              "<table border=\"1\" class=\"dataframe\">\n",
              "  <thead>\n",
              "    <tr style=\"text-align: right;\">\n",
              "      <th></th>\n",
              "      <th>epoch_index</th>\n",
              "      <th>fromHost</th>\n",
              "      <th>toHost</th>\n",
              "      <th>region_x</th>\n",
              "      <th>region_y</th>\n",
              "      <th>deliveryStatus</th>\n",
              "      <th>d0</th>\n",
              "      <th>d1</th>\n",
              "      <th>d2</th>\n",
              "      <th>d3</th>\n",
              "      <th>d4</th>\n",
              "      <th>d5</th>\n",
              "      <th>d6</th>\n",
              "      <th>d7</th>\n",
              "      <th>d8</th>\n",
              "      <th>d9</th>\n",
              "    </tr>\n",
              "  </thead>\n",
              "  <tbody>\n",
              "    <tr>\n",
              "      <th>0</th>\n",
              "      <td>4</td>\n",
              "      <td>6</td>\n",
              "      <td>1</td>\n",
              "      <td>0</td>\n",
              "      <td>2</td>\n",
              "      <td>False</td>\n",
              "      <td>True</td>\n",
              "      <td>False</td>\n",
              "      <td>False</td>\n",
              "      <td>False</td>\n",
              "      <td>False</td>\n",
              "      <td>True</td>\n",
              "      <td>True</td>\n",
              "      <td>True</td>\n",
              "      <td>False</td>\n",
              "      <td>False</td>\n",
              "    </tr>\n",
              "    <tr>\n",
              "      <th>1</th>\n",
              "      <td>5</td>\n",
              "      <td>6</td>\n",
              "      <td>1</td>\n",
              "      <td>0</td>\n",
              "      <td>2</td>\n",
              "      <td>False</td>\n",
              "      <td>True</td>\n",
              "      <td>True</td>\n",
              "      <td>False</td>\n",
              "      <td>False</td>\n",
              "      <td>False</td>\n",
              "      <td>False</td>\n",
              "      <td>True</td>\n",
              "      <td>True</td>\n",
              "      <td>False</td>\n",
              "      <td>False</td>\n",
              "    </tr>\n",
              "    <tr>\n",
              "      <th>2</th>\n",
              "      <td>11</td>\n",
              "      <td>6</td>\n",
              "      <td>1</td>\n",
              "      <td>0</td>\n",
              "      <td>2</td>\n",
              "      <td>False</td>\n",
              "      <td>False</td>\n",
              "      <td>False</td>\n",
              "      <td>False</td>\n",
              "      <td>True</td>\n",
              "      <td>False</td>\n",
              "      <td>False</td>\n",
              "      <td>True</td>\n",
              "      <td>False</td>\n",
              "      <td>False</td>\n",
              "      <td>False</td>\n",
              "    </tr>\n",
              "    <tr>\n",
              "      <th>3</th>\n",
              "      <td>22</td>\n",
              "      <td>6</td>\n",
              "      <td>1</td>\n",
              "      <td>0</td>\n",
              "      <td>2</td>\n",
              "      <td>False</td>\n",
              "      <td>False</td>\n",
              "      <td>False</td>\n",
              "      <td>False</td>\n",
              "      <td>True</td>\n",
              "      <td>False</td>\n",
              "      <td>False</td>\n",
              "      <td>True</td>\n",
              "      <td>False</td>\n",
              "      <td>True</td>\n",
              "      <td>False</td>\n",
              "    </tr>\n",
              "    <tr>\n",
              "      <th>4</th>\n",
              "      <td>36</td>\n",
              "      <td>6</td>\n",
              "      <td>1</td>\n",
              "      <td>0</td>\n",
              "      <td>2</td>\n",
              "      <td>False</td>\n",
              "      <td>False</td>\n",
              "      <td>False</td>\n",
              "      <td>False</td>\n",
              "      <td>True</td>\n",
              "      <td>True</td>\n",
              "      <td>False</td>\n",
              "      <td>True</td>\n",
              "      <td>False</td>\n",
              "      <td>True</td>\n",
              "      <td>False</td>\n",
              "    </tr>\n",
              "    <tr>\n",
              "      <th>...</th>\n",
              "      <td>...</td>\n",
              "      <td>...</td>\n",
              "      <td>...</td>\n",
              "      <td>...</td>\n",
              "      <td>...</td>\n",
              "      <td>...</td>\n",
              "      <td>...</td>\n",
              "      <td>...</td>\n",
              "      <td>...</td>\n",
              "      <td>...</td>\n",
              "      <td>...</td>\n",
              "      <td>...</td>\n",
              "      <td>...</td>\n",
              "      <td>...</td>\n",
              "      <td>...</td>\n",
              "      <td>...</td>\n",
              "    </tr>\n",
              "    <tr>\n",
              "      <th>2762</th>\n",
              "      <td>22</td>\n",
              "      <td>2</td>\n",
              "      <td>6</td>\n",
              "      <td>3</td>\n",
              "      <td>0</td>\n",
              "      <td>False</td>\n",
              "      <td>True</td>\n",
              "      <td>False</td>\n",
              "      <td>True</td>\n",
              "      <td>True</td>\n",
              "      <td>False</td>\n",
              "      <td>False</td>\n",
              "      <td>False</td>\n",
              "      <td>False</td>\n",
              "      <td>True</td>\n",
              "      <td>False</td>\n",
              "    </tr>\n",
              "    <tr>\n",
              "      <th>2763</th>\n",
              "      <td>23</td>\n",
              "      <td>2</td>\n",
              "      <td>6</td>\n",
              "      <td>3</td>\n",
              "      <td>0</td>\n",
              "      <td>False</td>\n",
              "      <td>False</td>\n",
              "      <td>False</td>\n",
              "      <td>True</td>\n",
              "      <td>False</td>\n",
              "      <td>True</td>\n",
              "      <td>False</td>\n",
              "      <td>False</td>\n",
              "      <td>False</td>\n",
              "      <td>False</td>\n",
              "      <td>False</td>\n",
              "    </tr>\n",
              "    <tr>\n",
              "      <th>2764</th>\n",
              "      <td>65</td>\n",
              "      <td>2</td>\n",
              "      <td>6</td>\n",
              "      <td>3</td>\n",
              "      <td>0</td>\n",
              "      <td>False</td>\n",
              "      <td>True</td>\n",
              "      <td>False</td>\n",
              "      <td>True</td>\n",
              "      <td>False</td>\n",
              "      <td>False</td>\n",
              "      <td>True</td>\n",
              "      <td>False</td>\n",
              "      <td>False</td>\n",
              "      <td>False</td>\n",
              "      <td>False</td>\n",
              "    </tr>\n",
              "    <tr>\n",
              "      <th>2765</th>\n",
              "      <td>90</td>\n",
              "      <td>2</td>\n",
              "      <td>6</td>\n",
              "      <td>3</td>\n",
              "      <td>0</td>\n",
              "      <td>False</td>\n",
              "      <td>True</td>\n",
              "      <td>False</td>\n",
              "      <td>True</td>\n",
              "      <td>False</td>\n",
              "      <td>False</td>\n",
              "      <td>False</td>\n",
              "      <td>False</td>\n",
              "      <td>False</td>\n",
              "      <td>False</td>\n",
              "      <td>True</td>\n",
              "    </tr>\n",
              "    <tr>\n",
              "      <th>2766</th>\n",
              "      <td>111</td>\n",
              "      <td>2</td>\n",
              "      <td>6</td>\n",
              "      <td>3</td>\n",
              "      <td>0</td>\n",
              "      <td>False</td>\n",
              "      <td>True</td>\n",
              "      <td>False</td>\n",
              "      <td>True</td>\n",
              "      <td>False</td>\n",
              "      <td>False</td>\n",
              "      <td>True</td>\n",
              "      <td>False</td>\n",
              "      <td>True</td>\n",
              "      <td>False</td>\n",
              "      <td>False</td>\n",
              "    </tr>\n",
              "  </tbody>\n",
              "</table>\n",
              "<p>2767 rows × 16 columns</p>\n",
              "</div>"
            ],
            "text/plain": [
              "      epoch_index  fromHost  toHost  region_x  ...     d6     d7     d8     d9\n",
              "0               4         6       1         0  ...   True   True  False  False\n",
              "1               5         6       1         0  ...   True   True  False  False\n",
              "2              11         6       1         0  ...   True  False  False  False\n",
              "3              22         6       1         0  ...   True  False   True  False\n",
              "4              36         6       1         0  ...   True  False   True  False\n",
              "...           ...       ...     ...       ...  ...    ...    ...    ...    ...\n",
              "2762           22         2       6         3  ...  False  False   True  False\n",
              "2763           23         2       6         3  ...  False  False  False  False\n",
              "2764           65         2       6         3  ...  False  False  False  False\n",
              "2765           90         2       6         3  ...  False  False  False   True\n",
              "2766          111         2       6         3  ...  False   True  False  False\n",
              "\n",
              "[2767 rows x 16 columns]"
            ]
          },
          "metadata": {
            "tags": []
          },
          "execution_count": 37
        }
      ]
    },
    {
      "cell_type": "code",
      "metadata": {
        "colab": {
          "base_uri": "https://localhost:8080/"
        },
        "id": "It2QQIHsm5Iw",
        "outputId": "d4c82620-b9ac-4de7-c89b-29cb56d415eb"
      },
      "source": [
        "X = df[df.columns[:6]][:]\n",
        "y = df[df.columns[6:]]\n",
        "print(X.shape)\n",
        "print(y.shape)"
      ],
      "execution_count": 38,
      "outputs": [
        {
          "output_type": "stream",
          "text": [
            "(2767, 6)\n",
            "(2767, 10)\n"
          ],
          "name": "stdout"
        }
      ]
    },
    {
      "cell_type": "markdown",
      "metadata": {
        "id": "SJ_0dFckeIDe"
      },
      "source": [
        "Dividing into test and train splits"
      ]
    },
    {
      "cell_type": "code",
      "metadata": {
        "id": "DS6prEwJm5Ix"
      },
      "source": [
        "from sklearn.model_selection import train_test_split\n",
        "from sklearn.preprocessing import StandardScaler"
      ],
      "execution_count": 39,
      "outputs": []
    },
    {
      "cell_type": "code",
      "metadata": {
        "colab": {
          "base_uri": "https://localhost:8080/"
        },
        "id": "BVsYx-Axm5Ix",
        "outputId": "9950da32-2167-444f-d2e9-e6ea174ceaac"
      },
      "source": [
        "X_train, X_test, y_train, y_test = train_test_split(X,\n",
        "                                                    y,\n",
        "                                                    test_size=0.2,\n",
        "                                                    random_state=seed)\n",
        "print(X_train.shape, y_train.shape)\n",
        "print(X_test.shape, y_test.shape)"
      ],
      "execution_count": 40,
      "outputs": [
        {
          "output_type": "stream",
          "text": [
            "(2213, 6) (2213, 10)\n",
            "(554, 6) (554, 10)\n"
          ],
          "name": "stdout"
        }
      ]
    },
    {
      "cell_type": "code",
      "metadata": {
        "id": "hz4aYkpsm5Iy"
      },
      "source": [
        "# Scaling the data\n",
        "sc_x = StandardScaler()\n",
        "X_train = sc_x.fit_transform(X_train)\n",
        "X_test = sc_x.transform(X_test)"
      ],
      "execution_count": 41,
      "outputs": []
    },
    {
      "cell_type": "code",
      "metadata": {
        "colab": {
          "base_uri": "https://localhost:8080/"
        },
        "id": "25B8wU8iQVNJ",
        "outputId": "13cd4293-d447-402d-aac3-11db96fd0d97"
      },
      "source": [
        "pip install scikit-multilearn"
      ],
      "execution_count": 42,
      "outputs": [
        {
          "output_type": "stream",
          "text": [
            "Requirement already satisfied: scikit-multilearn in /usr/local/lib/python3.7/dist-packages (0.2.0)\n"
          ],
          "name": "stdout"
        }
      ]
    },
    {
      "cell_type": "markdown",
      "metadata": {
        "id": "AmuTXkplQLUg"
      },
      "source": [
        "### Importing the required libraries\n"
      ]
    },
    {
      "cell_type": "code",
      "metadata": {
        "id": "MVdEPA_hm5Iz"
      },
      "source": [
        "from sklearn.multiclass import OneVsRestClassifier\n",
        "from sklearn.multioutput import ClassifierChain\n",
        "from skmultilearn.problem_transform import LabelPowerset\n",
        "\n",
        "from sklearn.linear_model import LogisticRegression\n",
        "from sklearn.naive_bayes import GaussianNB\n",
        "from sklearn.tree import DecisionTreeClassifier\n",
        "from sklearn.neighbors import KNeighborsClassifier\n",
        "from xgboost.sklearn import XGBClassifier\n",
        "from sklearn.ensemble import AdaBoostClassifier\n",
        "import xgboost as xgb\n",
        "\n",
        "from sklearn.metrics import jaccard_score\n",
        "from sklearn.metrics import classification_report, confusion_matrix\n",
        "from sklearn.metrics import precision_recall_fscore_support\n",
        "from sklearn.metrics import zero_one_loss\n",
        "from sklearn.metrics import hamming_loss\n",
        "from sklearn.metrics import accuracy_score\n",
        "from sklearn.model_selection import GridSearchCV\n",
        "\n",
        "from statistics import mean\n",
        "from hyperopt import STATUS_OK, Trials, fmin, hp, tpe"
      ],
      "execution_count": 43,
      "outputs": []
    },
    {
      "cell_type": "markdown",
      "metadata": {
        "id": "aJQq9XTGHsgq"
      },
      "source": [
        "### Tuning the Hyperparameters for XGBoost"
      ]
    },
    {
      "cell_type": "code",
      "metadata": {
        "id": "WsP4qDEH9-PB"
      },
      "source": [
        "y_train2 = y_train['d0']\n",
        "y_test2 = y_test['d0']"
      ],
      "execution_count": 44,
      "outputs": []
    },
    {
      "cell_type": "code",
      "metadata": {
        "id": "5SZkBhJ4izj6"
      },
      "source": [
        "# Defining search space for parameters\n",
        "space = {\n",
        "    'learning_rate': hp.loguniform('learning_rate', -5, 0),\n",
        "    'max_depth': hp.quniform(\"max_depth\", 40, 70, 2),\n",
        "    'gamma': hp.uniform('gamma', 0, 2),\n",
        "    'reg_lambda': hp.uniform('reg_lambda', 0, 1),\n",
        "    'colsample_bytree': hp.uniform('colsample_bytree', 0.8, 0.97),\n",
        "    'min_child_weight': hp.quniform('min_child_weight', 0, 1, 1),\n",
        "    'subsample': hp.uniform('subsample', 0.5, 1),\n",
        "    'n_estimators': 180,\n",
        "    'seed': 42\n",
        "}"
      ],
      "execution_count": 45,
      "outputs": []
    },
    {
      "cell_type": "code",
      "metadata": {
        "id": "rurFRzmujCAs"
      },
      "source": [
        "def objective(space):\n",
        "    clf = xgb.XGBClassifier(learning_rate=space['learning_rate'],\n",
        "                            n_estimators=space['n_estimators'],\n",
        "                            max_depth=int(space['max_depth']),\n",
        "                            gamma=space['gamma'],\n",
        "                            min_child_weight=int(space['min_child_weight']),\n",
        "                            colsample_bytree=space['colsample_bytree'],\n",
        "                            subsample=space['subsample'],\n",
        "                            n_jobs=-1)\n",
        "\n",
        "    evaluation = [(X_train, y_train2), (X_test, y_test2)]\n",
        "\n",
        "    clf.fit(X_train,\n",
        "            y=y_train2,\n",
        "            eval_set=evaluation,\n",
        "            eval_metric=\"error\",\n",
        "            early_stopping_rounds=10,\n",
        "            verbose=False)\n",
        "\n",
        "    pred = clf.predict(X_test)\n",
        "    accuracy = accuracy_score(y_test2, pred > 0.5)\n",
        "    print(\"Score:\", accuracy)\n",
        "    return {'loss': -accuracy, 'status': STATUS_OK}"
      ],
      "execution_count": 46,
      "outputs": []
    },
    {
      "cell_type": "code",
      "metadata": {
        "colab": {
          "base_uri": "https://localhost:8080/"
        },
        "id": "2NFZnxufjLHE",
        "outputId": "148931f3-947a-47a1-eda5-55ea5921959d"
      },
      "source": [
        "trials = Trials()\n",
        "\n",
        "best_hyperparams = fmin(fn=objective,\n",
        "                        space=space,\n",
        "                        algo=tpe.suggest,\n",
        "                        max_evals=200,\n",
        "                        trials=trials)"
      ],
      "execution_count": 47,
      "outputs": [
        {
          "output_type": "stream",
          "text": [
            "Score:\n",
            "0.8916967509025271\n",
            "Score:\n",
            "0.9296028880866426\n",
            "Score:\n",
            "0.907942238267148\n",
            "Score:\n",
            "0.9169675090252708\n",
            "Score:\n",
            "0.8646209386281588\n",
            "Score:\n",
            "0.9097472924187726\n",
            "Score:\n",
            "0.8826714801444043\n",
            "Score:\n",
            "0.8826714801444043\n",
            "Score:\n",
            "0.9259927797833934\n",
            "Score:\n",
            "0.924187725631769\n",
            "Score:\n",
            "0.907942238267148\n",
            "Score:\n",
            "0.9007220216606499\n",
            "Score:\n",
            "0.9296028880866426\n",
            "Score:\n",
            "0.8700361010830325\n",
            "Score:\n",
            "0.8465703971119134\n",
            "Score:\n",
            "0.9187725631768953\n",
            "Score:\n",
            "0.9205776173285198\n",
            "Score:\n",
            "0.9296028880866426\n",
            "Score:\n",
            "0.9151624548736462\n",
            "Score:\n",
            "0.927797833935018\n",
            "Score:\n",
            "0.9458483754512635\n",
            "Score:\n",
            "0.9169675090252708\n",
            "Score:\n",
            "0.9404332129963899\n",
            "Score:\n",
            "0.9223826714801444\n",
            "Score:\n",
            "0.8844765342960289\n",
            "Score:\n",
            "0.9386281588447654\n",
            "Score:\n",
            "0.907942238267148\n",
            "Score:\n",
            "0.9259927797833934\n",
            "Score:\n",
            "0.9314079422382672\n",
            "Score:\n",
            "0.9169675090252708\n",
            "Score:\n",
            "0.9368231046931408\n",
            "Score:\n",
            "0.924187725631769\n",
            "Score:\n",
            "0.9133574007220217\n",
            "Score:\n",
            "0.9296028880866426\n",
            "Score:\n",
            "0.8971119133574007\n",
            "Score:\n",
            "0.8971119133574007\n",
            "Score:\n",
            "0.9296028880866426\n",
            "Score:\n",
            "0.9169675090252708\n",
            "Score:\n",
            "0.9061371841155235\n",
            "Score:\n",
            "0.9043321299638989\n",
            "Score:\n",
            "0.9133574007220217\n",
            "Score:\n",
            "0.8880866425992779\n",
            "Score:\n",
            "0.9458483754512635\n",
            "Score:\n",
            "0.9314079422382672\n",
            "Score:\n",
            "0.8953068592057761\n",
            "Score:\n",
            "0.9169675090252708\n",
            "Score:\n",
            "0.927797833935018\n",
            "Score:\n",
            "0.9296028880866426\n",
            "Score:\n",
            "0.9133574007220217\n",
            "Score:\n",
            "0.9386281588447654\n",
            "Score:\n",
            "0.8700361010830325\n",
            "Score:\n",
            "0.9043321299638989\n",
            "Score:\n",
            "0.8989169675090253\n",
            "Score:\n",
            "0.871841155234657\n",
            "Score:\n",
            "0.9205776173285198\n",
            "Score:\n",
            "0.9296028880866426\n",
            "Score:\n",
            "0.8790613718411552\n",
            "Score:\n",
            "0.9314079422382672\n",
            "Score:\n",
            "0.9097472924187726\n",
            "Score:\n",
            "0.9223826714801444\n",
            "Score:\n",
            "0.9350180505415162\n",
            "Score:\n",
            "0.9223826714801444\n",
            "Score:\n",
            "0.9332129963898917\n",
            "Score:\n",
            "0.9350180505415162\n",
            "Score:\n",
            "0.8646209386281588\n",
            "Score:\n",
            "0.9368231046931408\n",
            "Score:\n",
            "0.9458483754512635\n",
            "Score:\n",
            "0.9314079422382672\n",
            "Score:\n",
            "0.9097472924187726\n",
            "Score:\n",
            "0.9296028880866426\n",
            "Score:\n",
            "0.9187725631768953\n",
            "Score:\n",
            "0.9223826714801444\n",
            "Score:\n",
            "0.924187725631769\n",
            "Score:\n",
            "0.9223826714801444\n",
            "Score:\n",
            "0.9332129963898917\n",
            "Score:\n",
            "0.9386281588447654\n",
            "Score:\n",
            "0.8826714801444043\n",
            "Score:\n",
            "0.9332129963898917\n",
            "Score:\n",
            "0.9043321299638989\n",
            "Score:\n",
            "0.9205776173285198\n",
            "Score:\n",
            "0.9169675090252708\n",
            "Score:\n",
            "0.9115523465703971\n",
            "Score:\n",
            "0.9187725631768953\n",
            "Score:\n",
            "0.9205776173285198\n",
            "Score:\n",
            "0.924187725631769\n",
            "Score:\n",
            "0.8971119133574007\n",
            "Score:\n",
            "0.927797833935018\n",
            "Score:\n",
            "0.9223826714801444\n",
            "Score:\n",
            "0.8664259927797834\n",
            "Score:\n",
            "0.9404332129963899\n",
            "Score:\n",
            "0.9097472924187726\n",
            "Score:\n",
            "0.9223826714801444\n",
            "Score:\n",
            "0.9314079422382672\n",
            "Score:\n",
            "0.9061371841155235\n",
            "Score:\n",
            "0.9187725631768953\n",
            "Score:\n",
            "0.9133574007220217\n",
            "Score:\n",
            "0.9404332129963899\n",
            "Score:\n",
            "0.9223826714801444\n",
            "Score:\n",
            "0.924187725631769\n",
            "Score:\n",
            "0.9133574007220217\n",
            "Score:\n",
            "0.9368231046931408\n",
            "Score:\n",
            "0.924187725631769\n",
            "Score:\n",
            "0.907942238267148\n",
            "Score:\n",
            "0.9404332129963899\n",
            "Score:\n",
            "0.9187725631768953\n",
            "Score:\n",
            "0.9386281588447654\n",
            "Score:\n",
            "0.924187725631769\n",
            "Score:\n",
            "0.9314079422382672\n",
            "Score:\n",
            "0.9205776173285198\n",
            "Score:\n",
            "0.9151624548736462\n",
            "Score:\n",
            "0.9187725631768953\n",
            "Score:\n",
            "0.9314079422382672\n",
            "Score:\n",
            "0.9350180505415162\n",
            "Score:\n",
            "0.9061371841155235\n",
            "Score:\n",
            "0.8844765342960289\n",
            "Score:\n",
            "0.9187725631768953\n",
            "Score:\n",
            "0.9115523465703971\n",
            "Score:\n",
            "0.8898916967509025\n",
            "Score:\n",
            "0.907942238267148\n",
            "Score:\n",
            "0.8971119133574007\n",
            "Score:\n",
            "0.927797833935018\n",
            "Score:\n",
            "0.927797833935018\n",
            "Score:\n",
            "0.9097472924187726\n",
            "Score:\n",
            "0.9314079422382672\n",
            "Score:\n",
            "0.9133574007220217\n",
            "Score:\n",
            "0.924187725631769\n",
            "Score:\n",
            "0.9259927797833934\n",
            "Score:\n",
            "0.9151624548736462\n",
            "Score:\n",
            "0.9296028880866426\n",
            "Score:\n",
            "0.8989169675090253\n",
            "Score:\n",
            "0.9133574007220217\n",
            "Score:\n",
            "0.9314079422382672\n",
            "Score:\n",
            "0.9296028880866426\n",
            "Score:\n",
            "0.9259927797833934\n",
            "Score:\n",
            "0.9187725631768953\n",
            "Score:\n",
            "0.9223826714801444\n",
            "Score:\n",
            "0.9314079422382672\n",
            "Score:\n",
            "0.9097472924187726\n",
            "Score:\n",
            "0.9169675090252708\n",
            "Score:\n",
            "0.9386281588447654\n",
            "Score:\n",
            "0.927797833935018\n",
            "Score:\n",
            "0.9187725631768953\n",
            "Score:\n",
            "0.9259927797833934\n",
            "Score:\n",
            "0.9259927797833934\n",
            "Score:\n",
            "0.927797833935018\n",
            "Score:\n",
            "0.9386281588447654\n",
            "Score:\n",
            "0.9368231046931408\n",
            "Score:\n",
            "0.9350180505415162\n",
            "Score:\n",
            "0.9223826714801444\n",
            "Score:\n",
            "0.9259927797833934\n",
            "Score:\n",
            "0.9368231046931408\n",
            "Score:\n",
            "0.9259927797833934\n",
            "Score:\n",
            "0.9368231046931408\n",
            "Score:\n",
            "0.9386281588447654\n",
            "Score:\n",
            "0.9386281588447654\n",
            "Score:\n",
            "0.9386281588447654\n",
            "Score:\n",
            "0.9205776173285198\n",
            "Score:\n",
            "0.927797833935018\n",
            "Score:\n",
            "0.9296028880866426\n",
            "Score:\n",
            "0.9350180505415162\n",
            "Score:\n",
            "0.9223826714801444\n",
            "Score:\n",
            "0.927797833935018\n",
            "Score:\n",
            "0.9350180505415162\n",
            "Score:\n",
            "0.927797833935018\n",
            "Score:\n",
            "0.9259927797833934\n",
            "Score:\n",
            "0.8700361010830325\n",
            "Score:\n",
            "0.9422382671480144\n",
            "Score:\n",
            "0.9386281588447654\n",
            "Score:\n",
            "0.9223826714801444\n",
            "Score:\n",
            "0.9314079422382672\n",
            "Score:\n",
            "0.9296028880866426\n",
            "Score:\n",
            "0.9350180505415162\n",
            "Score:\n",
            "0.9223826714801444\n",
            "Score:\n",
            "0.9169675090252708\n",
            "Score:\n",
            "0.924187725631769\n",
            "Score:\n",
            "0.9169675090252708\n",
            "Score:\n",
            "0.9097472924187726\n",
            "Score:\n",
            "0.9205776173285198\n",
            "Score:\n",
            "0.9296028880866426\n",
            "Score:\n",
            "0.9007220216606499\n",
            "Score:\n",
            "0.907942238267148\n",
            "Score:\n",
            "0.9386281588447654\n",
            "Score:\n",
            "0.9187725631768953\n",
            "Score:\n",
            "0.871841155234657\n",
            "Score:\n",
            "0.9350180505415162\n",
            "Score:\n",
            "0.924187725631769\n",
            "Score:\n",
            "0.9386281588447654\n",
            "Score:\n",
            "0.9223826714801444\n",
            "Score:\n",
            "0.9133574007220217\n",
            "Score:\n",
            "0.9332129963898917\n",
            "Score:\n",
            "0.9205776173285198\n",
            "Score:\n",
            "0.924187725631769\n",
            "Score:\n",
            "0.9151624548736462\n",
            "Score:\n",
            "0.9332129963898917\n",
            "Score:\n",
            "0.8935018050541517\n",
            "Score:\n",
            "0.9368231046931408\n",
            "Score:\n",
            "0.9025270758122743\n",
            "Score:\n",
            "0.8844765342960289\n",
            "Score:\n",
            "0.9187725631768953\n",
            "Score:\n",
            "0.8808664259927798\n",
            "100%|██████████| 200/200 [00:28<00:00,  6.96it/s, best loss: -0.9458483754512635]\n"
          ],
          "name": "stdout"
        }
      ]
    },
    {
      "cell_type": "code",
      "metadata": {
        "colab": {
          "base_uri": "https://localhost:8080/"
        },
        "id": "cJkk3iWJmI2l",
        "scrolled": true,
        "outputId": "e244c85b-eadd-4fc1-e17c-5cc2c4aa20aa"
      },
      "source": [
        "print(\"The best XGBoost hyperparameters are : \", \"\\n\")\n",
        "print(best_hyperparams)"
      ],
      "execution_count": 48,
      "outputs": [
        {
          "output_type": "stream",
          "text": [
            "The best XGBoost hyperparameters are :  \n",
            "\n",
            "{'colsample_bytree': 0.8450524103173055, 'gamma': 0.4284728966385598, 'learning_rate': 0.9720876660425267, 'max_depth': 68.0, 'min_child_weight': 0.0, 'reg_lambda': 0.7310636113121688, 'subsample': 0.7092073987000459}\n"
          ],
          "name": "stdout"
        }
      ]
    },
    {
      "cell_type": "markdown",
      "metadata": {
        "id": "gS4zXom0Hsg1"
      },
      "source": [
        "### Tuning the Hyperparameters for AdaBoost"
      ]
    },
    {
      "cell_type": "code",
      "metadata": {
        "colab": {
          "base_uri": "https://localhost:8080/"
        },
        "id": "V6ZxXR8qHsg1",
        "outputId": "6e972903-11e5-49dc-f924-b3166f52cab9"
      },
      "source": [
        "from sklearn.metrics import make_scorer, accuracy_score\n",
        "from sklearn.model_selection import GridSearchCV\n",
        "\n",
        "# Choose some parameter combinations to try\n",
        "parameters = {\n",
        "    'n_estimators': np.arange(100, 200, 2),\n",
        "    'learning_rate': [0.1, 0.05, 0.001, 0.005, 0.0001, 0.0005, 0.00001]\n",
        "}\n",
        "\n",
        "# Type of scoring used to compare parameter combinations\n",
        "acc_scorer = make_scorer(accuracy_score)\n",
        "clf = AdaBoostClassifier()\n",
        "\n",
        "# Run the grid search\n",
        "grid_search = GridSearchCV(estimator=clf,\n",
        "                           param_grid=parameters,\n",
        "                            cv=5,\n",
        "                           verbose=1,\n",
        "                           scoring=acc_scorer,\n",
        "                           n_jobs=-1)\n",
        "grid_search = grid_search.fit(X_train, y_train['d0'])\n",
        "\n",
        "print('Best Parameters for our classsifier')\n",
        "print('=' * 50)\n",
        "print(grid_search.best_params_)\n",
        "print('=' * 50)"
      ],
      "execution_count": 50,
      "outputs": [
        {
          "output_type": "stream",
          "text": [
            "Fitting 5 folds for each of 350 candidates, totalling 1750 fits\n"
          ],
          "name": "stdout"
        },
        {
          "output_type": "stream",
          "text": [
            "[Parallel(n_jobs=-1)]: Using backend LokyBackend with 2 concurrent workers.\n",
            "[Parallel(n_jobs=-1)]: Done  46 tasks      | elapsed:    8.4s\n",
            "[Parallel(n_jobs=-1)]: Done 196 tasks      | elapsed:   40.8s\n",
            "[Parallel(n_jobs=-1)]: Done 446 tasks      | elapsed:  1.6min\n",
            "[Parallel(n_jobs=-1)]: Done 796 tasks      | elapsed:  2.9min\n",
            "[Parallel(n_jobs=-1)]: Done 1246 tasks      | elapsed:  4.5min\n",
            "[Parallel(n_jobs=-1)]: Done 1750 out of 1750 | elapsed:  6.4min finished\n"
          ],
          "name": "stderr"
        },
        {
          "output_type": "stream",
          "text": [
            "Best Parameters for our classsifier\n",
            "==================================================\n",
            "{'learning_rate': 0.1, 'n_estimators': 198}\n",
            "==================================================\n"
          ],
          "name": "stdout"
        }
      ]
    },
    {
      "cell_type": "markdown",
      "metadata": {
        "id": "DIYTp6aLHsg2"
      },
      "source": [
        "### Optimal Hyperparameters after tuning"
      ]
    },
    {
      "cell_type": "markdown",
      "metadata": {
        "id": "3VvFWA-6_e5C",
        "outputId": "6e254809-edc9-4ce0-c8ec-6848def205b5"
      },
      "source": [
        "XGBoost - Epidemic<br>\n",
        "{'colsample_bytree': 0.8051446237389833,<br>\n",
        "'gamma': 0.2991055746915884,<br>\n",
        "'learning_rate': 0.10093931755220432,<br>\n",
        "'max_depth': 42.0,<br>\n",
        "'min_child_weight': 0.0,<br>\n",
        "'reg_lambda': 0.11676119223227349,<br>\n",
        "'subsample': 0.7969490785671262}\n",
        "<br><br>\n",
        "Accuracy -> 0.8863920099875156"
      ]
    },
    {
      "cell_type": "markdown",
      "metadata": {
        "id": "DcUw_VHXA1-A",
        "outputId": "e6d259c3-4071-49af-87bc-8a042d3764f4"
      },
      "source": [
        "XGBoost - PRoPHET<br>\n",
        "{'colsample_bytree': 0.8450524103173055,<br>\n",
        " 'gamma': 0.4284728966385598,<br>\n",
        "  'learning_rate': 0.9720876660425267,<br>\n",
        "   'max_depth': 68.0,<br>\n",
        "    'min_child_weight': 0.0,<br>\n",
        "     'reg_lambda': 0.7310636113121688,<br>\n",
        "      'subsample': 0.7092073987000459}\n",
        "<br><br>\n",
        "Accuracy -> 0.9458483754512635"
      ]
    },
    {
      "cell_type": "markdown",
      "metadata": {
        "id": "V_NAghT3Hsg3"
      },
      "source": [
        "AdaBoost Epidemic:<br>\n",
        "{'learning_rate'=0.1,<br>\n",
        "'n_estimators'=182}"
      ]
    },
    {
      "cell_type": "markdown",
      "metadata": {
        "id": "xmFzxQlMSLx-"
      },
      "source": [
        "AdaBoost PRoPHET:<br>\n",
        "{'learning_rate'=0.1,<br>\n",
        "'n_estimators'=198}"
      ]
    },
    {
      "cell_type": "code",
      "metadata": {
        "id": "_IAWwQS0M_vQ"
      },
      "source": [
        "classifiers = [\n",
        "    XGBClassifier(learning_rate= 0.9720876660425267,\n",
        "                  n_estimators=180,\n",
        "                  max_depth=68,\n",
        "                  min_child_weight=0,\n",
        "                  gamma=0.4284728966385598,\n",
        "                  reg_lambda= 0.7310636113121688,\n",
        "                  subsample=0.7092073987000459,\n",
        "                  colsample_bytree=0.8450524103173055,\n",
        "                  objective='multi:softmax',\n",
        "                  eval_metric='error',\n",
        "                  scale_pos_weight=1,\n",
        "                  num_class=2,\n",
        "                  n_jobs=-1,\n",
        "                  seed=seed),\n",
        "    AdaBoostClassifier(learning_rate=0.1, n_estimators=198),\n",
        "    DecisionTreeClassifier(),\n",
        "    GaussianNB(),\n",
        "    KNeighborsClassifier(n_neighbors=1)\n",
        "]\n",
        "\n",
        "titles = [\n",
        "    \"Epidemic - XGBoost\", \"Epidemic - Adaboost\", \"Epidemic - Decision Tree\",\n",
        "    \"Epidemic - Naive Bayes\", \"Epidemic - KNN\", \"PRoPHET - XGBoost\",\n",
        "    \"PRoPHET - Adaboost\", \"PRoPHET - Decision Tree\", \"PRoPHET - Naive Bayes\",\n",
        "    \"PRoPHET - KNN\"\n",
        "]\n",
        "metrics = ['jaccard', 'hamming', 'zero_one', 'f1']\n",
        "model_names = ('Independent', 'Chain(Averaged)', 'Ensemble', 'Label Powerset')"
      ],
      "execution_count": 51,
      "outputs": []
    },
    {
      "cell_type": "code",
      "metadata": {
        "id": "kAp7UpDG2N-T"
      },
      "source": [
        "metric_jaccard_results = {\n",
        "    'indep_results': [],\n",
        "    'chain_av_results': [],\n",
        "    'ensemble_results': [],\n",
        "    'powerset_results': []\n",
        "}\n",
        "metric_hamming_results = {\n",
        "    'indep_results': [],\n",
        "    'chain_av_results': [],\n",
        "    'ensemble_results': [],\n",
        "    'powerset_results': []\n",
        "}\n",
        "metric_zero_one_results = {\n",
        "    'indep_results': [],\n",
        "    'chain_av_results': [],\n",
        "    'ensemble_results': [],\n",
        "    'powerset_results': []\n",
        "}\n",
        "metric_f1_results = {\n",
        "    'indep_results': [],\n",
        "    'chain_av_results': [],\n",
        "    'ensemble_results': [],\n",
        "    'powerset_results': []\n",
        "}"
      ],
      "execution_count": 21,
      "outputs": []
    },
    {
      "cell_type": "markdown",
      "metadata": {
        "id": "IesQ3YOtHsg5"
      },
      "source": [
        "### Training the model"
      ]
    },
    {
      "cell_type": "markdown",
      "metadata": {
        "id": "Q3w8-qhsHsg5"
      },
      "source": [
        "The multi-label classification techniques used are -\n",
        "1. OneVsRest - Uses multiple independent classifiers assuming all labels as mutually exclusive.\n",
        "2. Chain Classifiers - Takes into account the correlation between labels by stacking the classifiers.\n",
        "3. Ensemble Chain Classifiers - Removes the dependence on the order of the chains by randomizing it.\n",
        "4. Label Powerset -  Transforms the multi-label problem to a multi-class problem with\n",
        "1 multi-class classifier trained on all unique label combinations \n",
        "found in the training data."
      ]
    },
    {
      "cell_type": "code",
      "metadata": {
        "id": "N4E_GuN8M_y-"
      },
      "source": [
        "j = 0\n",
        "for base_lr in classifiers:\n",
        "    # Independent classifiers\n",
        "    ovr = OneVsRestClassifier(base_lr)\n",
        "    ovr.fit(X_train, y_train)\n",
        "    Y_pred_ovr = ovr.predict(X_test)\n",
        "\n",
        "    ovr_jaccard_score = jaccard_score(y_test, Y_pred_ovr, average='samples')\n",
        "    ovr_hamming_score = hamming_loss(y_test, Y_pred_ovr)\n",
        "    ovr_f1_score = precision_recall_fscore_support(y_test,\n",
        "                                                   Y_pred_ovr,\n",
        "                                                   average='micro')[2]\n",
        "    ovr_zero_one_score = zero_one_loss(y_test, Y_pred_ovr, normalize=True)\n",
        "    ovr_f1_score = precision_recall_fscore_support(y_test,\n",
        "                                                   Y_pred_ovr,\n",
        "                                                   average='micro')[2]\n",
        "\n",
        "    # Classifier Chains\n",
        "    # Fit an ensemble of classifier chains and\n",
        "    # take the average prediction of all the chains.\n",
        "    chains = [\n",
        "        ClassifierChain(base_lr, order='random', random_state=i)\n",
        "        for i in range(10)\n",
        "    ]\n",
        "\n",
        "    for chain in chains:\n",
        "        chain.fit(X_train, y_train)\n",
        "\n",
        "    Y_pred_chains = np.array([chain.predict(X_test) for chain in chains])\n",
        "    chain_jaccard_scores = [\n",
        "        jaccard_score(y_test, Y_pred_chain >= .5, average='samples')\n",
        "        for Y_pred_chain in Y_pred_chains\n",
        "    ]\n",
        "    chain_hamming_scores = [\n",
        "        hamming_loss(y_test, Y_pred_chain >= .5)\n",
        "        for Y_pred_chain in Y_pred_chains\n",
        "    ]\n",
        "    chain_f1_scores = [\n",
        "        precision_recall_fscore_support(y_test,\n",
        "                                        Y_pred_chain >= .5,\n",
        "                                        average='micro')[2]\n",
        "        for Y_pred_chain in Y_pred_chains\n",
        "    ]\n",
        "    chain_zero_one_scores = [\n",
        "        zero_one_loss(y_test, Y_pred_chain >= .5)\n",
        "        for Y_pred_chain in Y_pred_chains\n",
        "    ]\n",
        "\n",
        "    chain_jaccard_av = mean(chain_jaccard_scores)\n",
        "    chain_hamming_av = mean(chain_hamming_scores)\n",
        "    chain_f1_av = mean(chain_f1_scores)\n",
        "    chain_zero_one_av = mean(chain_zero_one_scores)\n",
        "\n",
        "    # Ensemble Chain Clasifiers\n",
        "    Y_pred_ensemble = Y_pred_chains.mean(axis=0)\n",
        "    ensemble_jaccard_score = jaccard_score(y_test,\n",
        "                                           Y_pred_ensemble >= .5,\n",
        "                                           average='samples')\n",
        "    ensemble_hamming_score = hamming_loss(y_test, Y_pred_ensemble >= .5)\n",
        "    ensemble_f1_score = precision_recall_fscore_support(y_test,\n",
        "                                                        Y_pred_ensemble >= .5,\n",
        "                                                        average='micro')[2]\n",
        "    ensemble_zero_one_score = zero_one_loss(y_test, Y_pred_ensemble >= .5)\n",
        "\n",
        "    # Label Powerset Classifier\n",
        "    lp = LabelPowerset(base_lr)\n",
        "    lp.fit(X_train, y_train)\n",
        "    Y_pred_lp = lp.predict(X_test)\n",
        "    powerset_jaccard_score = jaccard_score(y_test,\n",
        "                                           Y_pred_lp,\n",
        "                                           average='samples')\n",
        "    powerset_hamming_score = hamming_loss(y_test, Y_pred_lp)\n",
        "    powerset_f1_score = precision_recall_fscore_support(y_test,\n",
        "                                                        Y_pred_lp,\n",
        "                                                        average='micro')[2]\n",
        "    powerset_zero_one_score = accuracy_score(y_test, Y_pred_lp)\n",
        "\n",
        "    # Appending the results metricwise\n",
        "    for metric in metrics:\n",
        "        globals()['metric_{}_results'.format(metric)]['indep_results'].append(\n",
        "            globals()['ovr_{}_score'.format(metric)])\n",
        "        globals()['metric_{}_results'.format(\n",
        "            metric)]['chain_av_results'].append(\n",
        "                globals()['chain_{}_av'.format(metric)])\n",
        "        globals()['metric_{}_results'.format(\n",
        "            metric)]['ensemble_results'].append(\n",
        "                globals()['ensemble_{}_score'.format(metric)])\n",
        "        globals()['metric_{}_results'.format(\n",
        "            metric)]['powerset_results'].append(\n",
        "                globals()['powerset_{}_score'.format(metric)])\n",
        "\n",
        "    j = j + 1"
      ],
      "execution_count": 52,
      "outputs": []
    },
    {
      "cell_type": "markdown",
      "metadata": {
        "id": "F24oUMzIHsg8"
      },
      "source": [
        "#### Plotting the results\n"
      ]
    },
    {
      "cell_type": "code",
      "metadata": {
        "id": "LiLYz8sfHshH"
      },
      "source": [
        "from textwrap import wrap\n",
        "\n",
        "headers = [\n",
        "    'Jaccard Similarity Score for ZebraNet UTM1 Dataset',\n",
        "    'Hamming Loss for ZebraNet UTM1 Dataset',\n",
        "    'Zero-One Loss for ZebraNet UTM1 Dataset',\n",
        "    'Micro-Averaged F1 Score for ZebraNet UTM1 Dataset'\n",
        "]\n",
        "\n",
        "titles = [\n",
        "    \"XGBoost (Epidemic)\", \"AdaBoost (Epidemic)\", \"D-tree (Epidemic)\",\n",
        "    \"Gaussian-NB (Epidemic)\", \"KNN (Epidemic)\", \"XGBoost (PRoPHET)\",\n",
        "    \"AdaBoost (PRoPHET)\", \"D-tree (PRoPHET)\", \"Gaussian-NB (PRoPHET)\",\n",
        "    \"KNN (PRoPHET)\"\n",
        "]\n",
        "\n",
        "titles = ['\\n'.join(wrap(title, 10)) for title in titles]"
      ],
      "execution_count": 66,
      "outputs": []
    },
    {
      "cell_type": "code",
      "metadata": {
        "colab": {
          "base_uri": "https://localhost:8080/",
          "height": 1000
        },
        "id": "Ozz56RQOM_2Z",
        "outputId": "42ebc05a-99fe-4d5f-b32d-fe517a09703d"
      },
      "source": [
        "itr = 0\n",
        "plt.style.use(\"seaborn-whitegrid\")\n",
        "for metric in metrics:\n",
        "    barWidth = 0.15\n",
        "    fig, ax = plt.subplots(figsize=(25, 6))\n",
        "    ax.grid(True)\n",
        "    ax.set_title(headers[itr])\n",
        "\n",
        "    # Set position of bar on X axis\n",
        "    br1 = np.arange(len(titles))\n",
        "    br2 = [x + barWidth for x in br1]\n",
        "    br3 = [x + barWidth for x in br2]\n",
        "    br4 = [x + barWidth for x in br3]\n",
        "\n",
        "    plt.bar(br1,\n",
        "            globals()['metric_{}_results'.format(metric)]['indep_results'],\n",
        "            alpha=1,\n",
        "            color='#5d9cd4',\n",
        "            edgecolor='grey',\n",
        "            width=barWidth,\n",
        "            label='Independent')\n",
        "    \n",
        "    plt.bar(br2,\n",
        "            globals()['metric_{}_results'.format(metric)]['chain_av_results'],\n",
        "            alpha=1,\n",
        "            color='#ed7d31',\n",
        "            edgecolor='grey',\n",
        "            width=barWidth,\n",
        "            label='Chain(Averaged)')\n",
        "    plt.bar(br3,\n",
        "            globals()['metric_{}_results'.format(metric)]['ensemble_results'],\n",
        "            alpha=1,\n",
        "            color='#a5a5a5',\n",
        "            edgecolor='grey',\n",
        "            width=barWidth,\n",
        "            label='Ensemble')\n",
        "    plt.bar(br4,\n",
        "            globals()['metric_{}_results'.format(metric)]['powerset_results'],\n",
        "            alpha=1,\n",
        "            color='#ffc000',\n",
        "            edgecolor='grey',\n",
        "            width=barWidth,\n",
        "            label='Label Powerset')\n",
        "    # Adding Xticks\n",
        "    plt.ylabel('Score', fontweight='bold', fontsize=15)\n",
        "    plt.xticks([r + barWidth for r in range(len(titles))], titles)\n",
        "    # Adding Legend\n",
        "    ax.legend(loc='upper center',\n",
        "              bbox_to_anchor=(0.5, -0.1),\n",
        "              fancybox=True,\n",
        "              shadow=True,\n",
        "              ncol=5)\n",
        "    plt.plot()\n",
        "    name = metric + '.jpg'\n",
        "    plt.savefig(name)\n",
        "    itr = itr+1\n",
        "\n",
        "iterations = iterations + 1"
      ],
      "execution_count": 68,
      "outputs": [
        {
          "output_type": "display_data",
          "data": {
            "image/png": "[encoded data removed]",
            "text/plain": [
              "<Figure size 2000x480 with 1 Axes>"
            ]
          },
          "metadata": {
            "tags": []
          }
        },
        {
          "output_type": "display_data",
          "data": {
            "image/png": "[encoded data removed]",
            "text/plain": [
              "<Figure size 2000x480 with 1 Axes>"
            ]
          },
          "metadata": {
            "tags": []
          }
        },
        {
          "output_type": "display_data",
          "data": {
            "image/png": "[encoded data removed]",
            "text/plain": [
              "<Figure size 2000x480 with 1 Axes>"
            ]
          },
          "metadata": {
            "tags": []
          }
        },
        {
          "output_type": "display_data",
          "data": {
            "image/png": "[encoded data removed]",
            "text/plain": [
              "<Figure size 2000x480 with 1 Axes>"
            ]
          },
          "metadata": {
            "tags": []
          }
        }
      ]
    },
    {
      "cell_type": "code",
      "metadata": {
        "colab": {
          "base_uri": "https://localhost:8080/"
        },
        "id": "ctsskcB3UvC_",
        "outputId": "615ce420-f4fe-4c51-f0f0-23427e5ee730"
      },
      "source": [
        "max(metric_jaccard_results['powerset_results'])"
      ],
      "execution_count": 62,
      "outputs": [
        {
          "output_type": "execute_result",
          "data": {
            "text/plain": [
              "0.8698384046759499"
            ]
          },
          "metadata": {
            "tags": []
          },
          "execution_count": 62
        }
      ]
    },
    {
      "cell_type": "markdown",
      "metadata": {
        "id": "fonYLqADU5m8"
      },
      "source": [
        "PRoPHET Router paired with fine-tuned XGBoost Classifier<br>\n",
        "indep -> 0.890510572460031 <br>\n",
        "chain-av -> 0.8993678012721333 <br>\n",
        "ensemble -> 0.9063663973411267<br>\n",
        "powerset -> 0.8698384046759499<br><br>\n",
        "\n",
        "Overall Maximum Multi Label Accuracy = 90.63%\n"
      ]
    }
  ]
}